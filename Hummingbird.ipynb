{
  "nbformat": 4,
  "nbformat_minor": 0,
  "metadata": {
    "colab": {
      "name": "Hummingbird.ipynb",
      "provenance": [],
      "authorship_tag": "ABX9TyOlrVL78z0dRthSonxfijXv",
      "include_colab_link": true
    },
    "kernelspec": {
      "name": "python3",
      "display_name": "Python 3"
    },
    "language_info": {
      "name": "python"
    },
    "accelerator": "GPU"
  },
  "cells": [
    {
      "cell_type": "markdown",
      "metadata": {
        "id": "view-in-github",
        "colab_type": "text"
      },
      "source": [
        "<a href=\"https://colab.research.google.com/github/AarthiThirumavalavan/DL/blob/main/Hummingbird.ipynb\" target=\"_parent\"><img src=\"https://colab.research.google.com/assets/colab-badge.svg\" alt=\"Open In Colab\"/></a>"
      ]
    },
    {
      "cell_type": "code",
      "source": [
        "!pip install hummingbird-ml"
      ],
      "metadata": {
        "colab": {
          "base_uri": "https://localhost:8080/"
        },
        "id": "70VFWvveo7QU",
        "outputId": "68406be6-8417-47f5-fc03-37c471f4a62f"
      },
      "execution_count": 2,
      "outputs": [
        {
          "output_type": "stream",
          "name": "stdout",
          "text": [
            "Collecting hummingbird-ml\n",
            "  Downloading hummingbird_ml-0.4.4-py2.py3-none-any.whl (181 kB)\n",
            "\u001b[?25l\r\u001b[K     |█▉                              | 10 kB 19.3 MB/s eta 0:00:01\r\u001b[K     |███▋                            | 20 kB 22.8 MB/s eta 0:00:01\r\u001b[K     |█████▍                          | 30 kB 11.0 MB/s eta 0:00:01\r\u001b[K     |███████▎                        | 40 kB 8.7 MB/s eta 0:00:01\r\u001b[K     |█████████                       | 51 kB 4.6 MB/s eta 0:00:01\r\u001b[K     |██████████▉                     | 61 kB 5.5 MB/s eta 0:00:01\r\u001b[K     |████████████▋                   | 71 kB 5.5 MB/s eta 0:00:01\r\u001b[K     |██████████████▌                 | 81 kB 5.5 MB/s eta 0:00:01\r\u001b[K     |████████████████▎               | 92 kB 6.1 MB/s eta 0:00:01\r\u001b[K     |██████████████████              | 102 kB 5.3 MB/s eta 0:00:01\r\u001b[K     |███████████████████▉            | 112 kB 5.3 MB/s eta 0:00:01\r\u001b[K     |█████████████████████▊          | 122 kB 5.3 MB/s eta 0:00:01\r\u001b[K     |███████████████████████▌        | 133 kB 5.3 MB/s eta 0:00:01\r\u001b[K     |█████████████████████████▎      | 143 kB 5.3 MB/s eta 0:00:01\r\u001b[K     |███████████████████████████     | 153 kB 5.3 MB/s eta 0:00:01\r\u001b[K     |█████████████████████████████   | 163 kB 5.3 MB/s eta 0:00:01\r\u001b[K     |██████████████████████████████▊ | 174 kB 5.3 MB/s eta 0:00:01\r\u001b[K     |████████████████████████████████| 181 kB 5.3 MB/s \n",
            "\u001b[?25hRequirement already satisfied: torch>=1.4 in /usr/local/lib/python3.7/dist-packages (from hummingbird-ml) (1.11.0+cu113)\n",
            "Collecting onnxconverter-common>=1.6.0\n",
            "  Downloading onnxconverter_common-1.9.0-py2.py3-none-any.whl (78 kB)\n",
            "\u001b[K     |████████████████████████████████| 78 kB 7.1 MB/s \n",
            "\u001b[?25hRequirement already satisfied: dill in /usr/local/lib/python3.7/dist-packages (from hummingbird-ml) (0.3.4)\n",
            "Requirement already satisfied: scikit-learn>=0.21.3 in /usr/local/lib/python3.7/dist-packages (from hummingbird-ml) (1.0.2)\n",
            "Requirement already satisfied: psutil in /usr/local/lib/python3.7/dist-packages (from hummingbird-ml) (5.4.8)\n",
            "Requirement already satisfied: numpy>=1.15 in /usr/local/lib/python3.7/dist-packages (from hummingbird-ml) (1.21.6)\n",
            "Requirement already satisfied: scipy in /usr/local/lib/python3.7/dist-packages (from hummingbird-ml) (1.4.1)\n",
            "Collecting onnx\n",
            "  Downloading onnx-1.11.0-cp37-cp37m-manylinux_2_12_x86_64.manylinux2010_x86_64.whl (12.8 MB)\n",
            "\u001b[K     |████████████████████████████████| 12.8 MB 42.3 MB/s \n",
            "\u001b[?25hRequirement already satisfied: protobuf in /usr/local/lib/python3.7/dist-packages (from onnxconverter-common>=1.6.0->hummingbird-ml) (3.17.3)\n",
            "Requirement already satisfied: joblib>=0.11 in /usr/local/lib/python3.7/dist-packages (from scikit-learn>=0.21.3->hummingbird-ml) (1.1.0)\n",
            "Requirement already satisfied: threadpoolctl>=2.0.0 in /usr/local/lib/python3.7/dist-packages (from scikit-learn>=0.21.3->hummingbird-ml) (3.1.0)\n",
            "Requirement already satisfied: typing-extensions in /usr/local/lib/python3.7/dist-packages (from torch>=1.4->hummingbird-ml) (4.2.0)\n",
            "Requirement already satisfied: six>=1.9 in /usr/local/lib/python3.7/dist-packages (from protobuf->onnxconverter-common>=1.6.0->hummingbird-ml) (1.15.0)\n",
            "Installing collected packages: onnx, onnxconverter-common, hummingbird-ml\n",
            "Successfully installed hummingbird-ml-0.4.4 onnx-1.11.0 onnxconverter-common-1.9.0\n"
          ]
        }
      ]
    },
    {
      "cell_type": "code",
      "execution_count": 3,
      "metadata": {
        "colab": {
          "base_uri": "https://localhost:8080/"
        },
        "id": "3WUoWdLZ3tRi",
        "outputId": "4f5534ff-c7ff-4055-f720-9f3e873df24a"
      },
      "outputs": [
        {
          "output_type": "stream",
          "name": "stderr",
          "text": [
            "/usr/local/lib/python3.7/dist-packages/sklearn/experimental/enable_hist_gradient_boosting.py:17: UserWarning: Since version 1.0, it is not needed to import enable_hist_gradient_boosting anymore. HistGradientBoostingClassifier and HistGradientBoostingRegressor are now stable and can be normally imported from sklearn.ensemble.\n",
            "  \"Since version 1.0, \"\n",
            "/usr/local/lib/python3.7/dist-packages/sklearn/utils/deprecation.py:103: FutureWarning: Attribute `n_features_` was deprecated in version 1.0 and will be removed in 1.2. Use `n_features_in_` instead.\n",
            "  warnings.warn(msg, category=FutureWarning)\n"
          ]
        }
      ],
      "source": [
        "import numpy as np\n",
        "from sklearn.ensemble import RandomForestClassifier\n",
        "from hummingbird.ml import convert, load\n",
        "\n",
        "# Create some random data for binary classification\n",
        "num_classes = 2\n",
        "X = np.random.rand(100000, 28)\n",
        "y = np.random.randint(num_classes, size=100000)\n",
        "\n",
        "# Create and train a model (scikit-learn RandomForestClassifier in this case)\n",
        "skl_model = RandomForestClassifier(n_estimators=10, max_depth=10)\n",
        "skl_model.fit(X, y)\n",
        "\n",
        "# Use Hummingbird to convert the model to PyTorch\n",
        "model = convert(skl_model, 'pytorch')\n",
        "\n",
        "# Run predictions on CPU\n",
        "model.predict(X)\n",
        "\n",
        "# Run predictions on GPU\n",
        "model.to('cuda')\n",
        "model.predict(X)\n",
        "\n",
        "# Save the model\n",
        "model.save('hb_model')\n",
        "\n",
        "# Load the model back\n",
        "model = load('hb_model')"
      ]
    },
    {
      "cell_type": "code",
      "source": [
        ""
      ],
      "metadata": {
        "id": "3oX_4GwLpBRw"
      },
      "execution_count": null,
      "outputs": []
    }
  ]
}