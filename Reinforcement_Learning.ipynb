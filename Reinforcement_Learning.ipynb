{
  "nbformat": 4,
  "nbformat_minor": 0,
  "metadata": {
    "colab": {
      "name": "Reinforcement_Learning.ipynb",
      "provenance": [],
      "collapsed_sections": [],
      "authorship_tag": "ABX9TyOozKEw8siNJlqEqZarq9y0",
      "include_colab_link": true
    },
    "kernelspec": {
      "name": "python3",
      "display_name": "Python 3"
    },
    "language_info": {
      "name": "python"
    }
  },
  "cells": [
    {
      "cell_type": "markdown",
      "metadata": {
        "id": "view-in-github",
        "colab_type": "text"
      },
      "source": [
        "<a href=\"https://colab.research.google.com/github/AarthiThirumavalavan/DL/blob/main/Reinforcement_Learning.ipynb\" target=\"_parent\"><img src=\"https://colab.research.google.com/assets/colab-badge.svg\" alt=\"Open In Colab\"/></a>"
      ]
    },
    {
      "cell_type": "code",
      "execution_count": 1,
      "metadata": {
        "id": "7vZrH5ul0yce"
      },
      "outputs": [],
      "source": [
        "import random\n",
        "from typing import List"
      ]
    },
    {
      "cell_type": "markdown",
      "source": [
        "Environment"
      ],
      "metadata": {
        "id": "mAeWU2He2Ez9"
      }
    },
    {
      "cell_type": "code",
      "source": [
        "class SampleEnvironment:\n",
        "  def __init__(self):\n",
        "    self.steps_left = 20 #max num of steps agent can take to gain rewards\n",
        "\n",
        "  def get_observation(self) -> List[float]:\n",
        "    return [0.0, 0.0, 0.0] #info regarding environment\n",
        "\n",
        "  def get_actions(self) -> List[int]:\n",
        "    return [0,1] # rewards that agent can get\n",
        "\n",
        "  def is_done(self) -> bool:\n",
        "    return self.steps_left == 0 #when steps are completed, bool value is set to indicate end of actions taken by agent\n",
        "\n",
        "  def action(self, action:int) -> float:\n",
        "    if self.is_done():\n",
        "      raise Exception(\"Game is over\")\n",
        "    self.steps_left -= 1\n",
        "    return random.random()"
      ],
      "metadata": {
        "id": "Wx3rfN6005hh"
      },
      "execution_count": 3,
      "outputs": []
    },
    {
      "cell_type": "markdown",
      "source": [
        "Agent"
      ],
      "metadata": {
        "id": "mv5Fkaps2Gh1"
      }
    },
    {
      "cell_type": "code",
      "source": [
        "class Agent:\n",
        "  def __init__(self):\n",
        "    self.total_reward = 0.0\n",
        "\n",
        "  def step(self, env: SampleEnvironment):\n",
        "    current_obs = env.get_observation()\n",
        "    print(\"Observation {}\".format(current_obs))\n",
        "    actions = env.get_actions()\n",
        "    print(actions)\n",
        "    reward = env.action(random.choice(actions))\n",
        "    self.total_reward += reward\n",
        "    print(\"Total reward {}\".format(self.total_reward))"
      ],
      "metadata": {
        "id": "rkGvuzoc2Iei"
      },
      "execution_count": 7,
      "outputs": []
    },
    {
      "cell_type": "code",
      "source": [
        "if __name__ == \"__main__\":\n",
        "  env = SampleEnvironment()\n",
        "  agent = Agent()\n",
        "  i = 0\n",
        "\n",
        "  while not env.is_done():\n",
        "    i = i+1\n",
        "    print(\"Steps {}\".format(i))\n",
        "    agent.step(env)\n",
        "\n",
        "  print(\"Total reward got: %.4f\" %agent.total_reward)"
      ],
      "metadata": {
        "colab": {
          "base_uri": "https://localhost:8080/"
        },
        "id": "wg9wCl_G2-DB",
        "outputId": "f7fddb88-4552-4248-8e29-91fe2c2a56f8"
      },
      "execution_count": 8,
      "outputs": [
        {
          "output_type": "stream",
          "name": "stdout",
          "text": [
            "Steps 1\n",
            "Observation [0.0, 0.0, 0.0]\n",
            "[0, 1]\n",
            "Total reward 0.7221732345033696\n",
            "Steps 2\n",
            "Observation [0.0, 0.0, 0.0]\n",
            "[0, 1]\n",
            "Total reward 0.7367760138688856\n",
            "Steps 3\n",
            "Observation [0.0, 0.0, 0.0]\n",
            "[0, 1]\n",
            "Total reward 0.9430247922772791\n",
            "Steps 4\n",
            "Observation [0.0, 0.0, 0.0]\n",
            "[0, 1]\n",
            "Total reward 1.8118258991600595\n",
            "Steps 5\n",
            "Observation [0.0, 0.0, 0.0]\n",
            "[0, 1]\n",
            "Total reward 1.8903035467445262\n",
            "Steps 6\n",
            "Observation [0.0, 0.0, 0.0]\n",
            "[0, 1]\n",
            "Total reward 2.262839539006176\n",
            "Steps 7\n",
            "Observation [0.0, 0.0, 0.0]\n",
            "[0, 1]\n",
            "Total reward 2.4023348918899714\n",
            "Steps 8\n",
            "Observation [0.0, 0.0, 0.0]\n",
            "[0, 1]\n",
            "Total reward 3.068826778382\n",
            "Steps 9\n",
            "Observation [0.0, 0.0, 0.0]\n",
            "[0, 1]\n",
            "Total reward 3.524604419385386\n",
            "Steps 10\n",
            "Observation [0.0, 0.0, 0.0]\n",
            "[0, 1]\n",
            "Total reward 3.683136866295786\n",
            "Steps 11\n",
            "Observation [0.0, 0.0, 0.0]\n",
            "[0, 1]\n",
            "Total reward 4.553692904144402\n",
            "Steps 12\n",
            "Observation [0.0, 0.0, 0.0]\n",
            "[0, 1]\n",
            "Total reward 5.529830907292204\n",
            "Steps 13\n",
            "Observation [0.0, 0.0, 0.0]\n",
            "[0, 1]\n",
            "Total reward 6.142389867459773\n",
            "Steps 14\n",
            "Observation [0.0, 0.0, 0.0]\n",
            "[0, 1]\n",
            "Total reward 6.680623871219112\n",
            "Steps 15\n",
            "Observation [0.0, 0.0, 0.0]\n",
            "[0, 1]\n",
            "Total reward 6.69316574550255\n",
            "Steps 16\n",
            "Observation [0.0, 0.0, 0.0]\n",
            "[0, 1]\n",
            "Total reward 7.073337751144728\n",
            "Steps 17\n",
            "Observation [0.0, 0.0, 0.0]\n",
            "[0, 1]\n",
            "Total reward 7.603740412262099\n",
            "Steps 18\n",
            "Observation [0.0, 0.0, 0.0]\n",
            "[0, 1]\n",
            "Total reward 7.6804834121699885\n",
            "Steps 19\n",
            "Observation [0.0, 0.0, 0.0]\n",
            "[0, 1]\n",
            "Total reward 7.912255745395588\n",
            "Steps 20\n",
            "Observation [0.0, 0.0, 0.0]\n",
            "[0, 1]\n",
            "Total reward 8.164488319478487\n",
            "Total reward got: 8.1645\n"
          ]
        }
      ]
    },
    {
      "cell_type": "code",
      "source": [
        ""
      ],
      "metadata": {
        "id": "3uj7piXC3tKf"
      },
      "execution_count": null,
      "outputs": []
    }
  ]
}