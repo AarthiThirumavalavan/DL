{
  "nbformat": 4,
  "nbformat_minor": 0,
  "metadata": {
    "colab": {
      "name": "Data_Augmentation.ipynb",
      "provenance": [],
      "collapsed_sections": [],
      "mount_file_id": "1QkRCnnhEcWknKFaqtnxUCpWdQtOlvhuN",
      "authorship_tag": "ABX9TyN+T8HFkTzfvwm25jU1hAKr",
      "include_colab_link": true
    },
    "kernelspec": {
      "name": "python3",
      "display_name": "Python 3"
    },
    "language_info": {
      "name": "python"
    }
  },
  "cells": [
    {
      "cell_type": "markdown",
      "metadata": {
        "id": "view-in-github",
        "colab_type": "text"
      },
      "source": [
        "<a href=\"https://colab.research.google.com/github/AarthiThirumavalavan/DL/blob/main/Data_Augmentation.ipynb\" target=\"_parent\"><img src=\"https://colab.research.google.com/assets/colab-badge.svg\" alt=\"Open In Colab\"/></a>"
      ]
    },
    {
      "cell_type": "code",
      "execution_count": null,
      "metadata": {
        "id": "D1IoIwew_kai"
      },
      "outputs": [],
      "source": [
        "from keras.preprocessing.image import ImageDataGenerator, array_to_img, img_to_array, load_img"
      ]
    },
    {
      "cell_type": "code",
      "source": [
        "datagen = ImageDataGenerator(\n",
        "    rotation_range=40,\n",
        "    width_shift_range=0.2,\n",
        "    height_shift_range=0.2,\n",
        "    shear_range=0.2,\n",
        "    zoom_range=0.2,\n",
        "    horizontal_flip=True,\n",
        "    fill_mode='nearest'\n",
        ")"
      ],
      "metadata": {
        "id": "xmM6KXxeAyKg"
      },
      "execution_count": null,
      "outputs": []
    },
    {
      "cell_type": "code",
      "source": [
        "img = load_img('/content/drive/MyDrive/DL_Krish_Naik/bird2.jpeg')"
      ],
      "metadata": {
        "id": "CA3GjSWCA5xQ"
      },
      "execution_count": null,
      "outputs": []
    },
    {
      "cell_type": "code",
      "source": [
        "x = img_to_array(img)"
      ],
      "metadata": {
        "id": "0dQAff-VBN9R"
      },
      "execution_count": null,
      "outputs": []
    },
    {
      "cell_type": "code",
      "source": [
        "x.shape"
      ],
      "metadata": {
        "colab": {
          "base_uri": "https://localhost:8080/"
        },
        "id": "Llx4yTItBS_y",
        "outputId": "230c04f8-f39c-4e6a-ea03-674e87f7df0f"
      },
      "execution_count": null,
      "outputs": [
        {
          "output_type": "execute_result",
          "data": {
            "text/plain": [
              "(600, 600, 3)"
            ]
          },
          "metadata": {},
          "execution_count": 7
        }
      ]
    },
    {
      "cell_type": "code",
      "source": [
        "x = x.reshape((1,)+ x.shape) #creating a 4d array"
      ],
      "metadata": {
        "id": "WGBBbI5sBdQp"
      },
      "execution_count": null,
      "outputs": []
    },
    {
      "cell_type": "code",
      "source": [
        "x.shape"
      ],
      "metadata": {
        "colab": {
          "base_uri": "https://localhost:8080/"
        },
        "id": "ZSWfSzf6BlCS",
        "outputId": "21b9b90d-c4bd-4ef9-8b71-f66fb5db44a9"
      },
      "execution_count": null,
      "outputs": [
        {
          "output_type": "execute_result",
          "data": {
            "text/plain": [
              "(1, 600, 600, 3)"
            ]
          },
          "metadata": {},
          "execution_count": 11
        }
      ]
    },
    {
      "cell_type": "code",
      "source": [
        "i=0\n",
        "for batch in datagen.flow(x, batch_size=1, save_to_dir='/content/drive/MyDrive/DL_Krish_Naik/preview', save_prefix='bird', save_format='jpeg'):\n",
        "  i += 1\n",
        "  if i > 20: #to generate 20 images\n",
        "    break"
      ],
      "metadata": {
        "id": "VpXSS9nbBoaS"
      },
      "execution_count": null,
      "outputs": []
    },
    {
      "cell_type": "code",
      "source": [
        ""
      ],
      "metadata": {
        "id": "T96kpr6-CLEw"
      },
      "execution_count": null,
      "outputs": []
    }
  ]
}